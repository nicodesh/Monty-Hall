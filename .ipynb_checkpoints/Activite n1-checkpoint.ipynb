{
 "cells": [
  {
   "cell_type": "code",
   "execution_count": 88,
   "metadata": {},
   "outputs": [],
   "source": [
    "%matplotlib inline\n",
    "\n",
    "from enum import Enum\n",
    "\n",
    "import matplotlib.pyplot as plt\n",
    "import numpy as np\n",
    "\n",
    "class Strategie(Enum):\n",
    "    CHANGER = 1\n",
    "    GARDER = 0\n",
    "    ALEATOIRE = 2\n",
    "\n",
    "def play(strategie, n):\n",
    "    \"\"\" Simuler le problème de Monty Hall\n",
    "    \n",
    "    Args:\n",
    "        strategie (Strategie): quelle stratégie adopter\n",
    "        n (int): nombre de coups à jouer\n",
    "        \n",
    "    Return:\n",
    "        ndarray\n",
    "    \"\"\"\n",
    "    \n",
    "    def play_party(strategie):\n",
    "        \"\"\" Retourne le résultat d'une partie \"\"\"\n",
    "        \n",
    "        portes = [0, 1, 2]\n",
    "        bonne_porte = np.random.randint(0,2)\n",
    "        premier_choix = np.random.randint(0,2)\n",
    "        portes.remove(premier_choix)\n",
    "\n",
    "        if (premier_choix == bonne_porte):\n",
    "            portes.remove(portes[np.random.randint(0,2)])\n",
    "\n",
    "        else:\n",
    "            portes = [bonne_porte]\n",
    "\n",
    "        deuxieme_choix = 0\n",
    "\n",
    "        if (strategie == Strategie.GARDER):\n",
    "            deuxieme_choix = premier_choix\n",
    "\n",
    "        else:\n",
    "            deuxieme_choix = portes[0]\n",
    "        \n",
    "        \n",
    "        result = (deuxieme_choix == bonne_porte)\n",
    "        \n",
    "        if (result):\n",
    "            return 1\n",
    "        else:\n",
    "            return 0\n",
    "    \n",
    "    return np.full((n), play_party(strategie))\n",
    "    \n",
    "    "
   ]
  },
  {
   "cell_type": "code",
   "execution_count": 91,
   "metadata": {},
   "outputs": [
    {
     "data": {
      "text/plain": [
       "array([1, 1, 1, 1, 1, 1, 1, 1, 1, 1, 1, 1, 1, 1, 1])"
      ]
     },
     "execution_count": 91,
     "metadata": {},
     "output_type": "execute_result"
    }
   ],
   "source": [
    "play(Strategie.CHANGER,15)"
   ]
  },
  {
   "cell_type": "code",
   "execution_count": 83,
   "metadata": {},
   "outputs": [
    {
     "data": {
      "text/plain": [
       "array([[8, 8, 8],\n",
       "       [8, 8, 8],\n",
       "       [8, 8, 8]])"
      ]
     },
     "execution_count": 83,
     "metadata": {},
     "output_type": "execute_result"
    }
   ],
   "source": [
    "import random\n",
    "random.randint(0,10)\n",
    "\n",
    "#numpy.full(shape, fill_value, dtype=None, order='C')[source]\n",
    "\n",
    "np.full((3,3), random.randint(0,10))"
   ]
  },
  {
   "cell_type": "code",
   "execution_count": 1,
   "metadata": {},
   "outputs": [
    {
     "data": {
      "image/png": "[encoded data removed]",
      "text/plain": [
       "<matplotlib.figure.Figure at 0x105d2d518>"
      ]
     },
     "metadata": {},
     "output_type": "display_data"
    },
    {
     "data": {
      "image/png": "[encoded data removed]",
      "text/plain": [
       "<matplotlib.figure.Figure at 0x107318e10>"
      ]
     },
     "metadata": {},
     "output_type": "display_data"
    }
   ],
   "source": [
    "%matplotlib inline\n",
    "from montyhall import MontyHall\n",
    "\n",
    "my_monty_hall = MontyHall()\n",
    "my_monty_hall.plot_compare(1000)\n",
    "my_monty_hall.plot_linearity([1000, 10000, 20000, 50000, 80000, 100000, 100000])"
   ]
  },
  {
   "cell_type": "code",
   "execution_count": null,
   "metadata": {},
   "outputs": [],
   "source": []
  }
 ],
 "metadata": {
  "kernelspec": {
   "display_name": "Python 3",
   "language": "python",
   "name": "python3"
  },
  "language_info": {
   "codemirror_mode": {
    "name": "ipython",
    "version": 3
   },
   "file_extension": ".py",
   "mimetype": "text/x-python",
   "name": "python",
   "nbconvert_exporter": "python",
   "pygments_lexer": "ipython3",
   "version": "3.6.5"
  }
 },
 "nbformat": 4,
 "nbformat_minor": 2
}
